{
 "cells": [
  {
   "cell_type": "code",
   "execution_count": 2,
   "id": "417b3bf3-51cf-41d6-b55d-cce91c312a69",
   "metadata": {},
   "outputs": [
    {
     "name": "stdin",
     "output_type": "stream",
     "text": [
      "what is your name  zain\n",
      "what is your favorite colour white\n"
     ]
    },
    {
     "name": "stdout",
     "output_type": "stream",
     "text": [
      "zain likes white\n"
     ]
    }
   ],
   "source": [
    "name= input('what is your name ')\n",
    "color= input('what is your favorite colour')\n",
    "print( name +' likes '+ color)"
   ]
  },
  {
   "cell_type": "code",
   "execution_count": 6,
   "id": "5865a64c-4d3c-48b0-a280-07bfc8584fed",
   "metadata": {},
   "outputs": [
    {
     "name": "stdin",
     "output_type": "stream",
     "text": [
      "Enter your birth year :  2005\n"
     ]
    },
    {
     "name": "stdout",
     "output_type": "stream",
     "text": [
      "Your current age is 20\n"
     ]
    }
   ],
   "source": [
    "birth_year= input('Enter your birth year : ')\n",
    "current_year=2025\n",
    "age= current_year - int(birth_year)\n",
    "print('Your current age is '+str(age))"
   ]
  },
  {
   "cell_type": "code",
   "execution_count": 10,
   "id": "90f774cd-4a2b-4640-8531-f75484bedacd",
   "metadata": {},
   "outputs": [
    {
     "name": "stdin",
     "output_type": "stream",
     "text": [
      "Enter your weight in lbs : 160\n"
     ]
    },
    {
     "name": "stdout",
     "output_type": "stream",
     "text": [
      "72.0\n"
     ]
    }
   ],
   "source": [
    "weight_in_lbs= input('Enter your weight in lbs :')\n",
    "lbs_to_kgs= int(weight_in_lbs) * 0.45\n",
    "print(lbs_to_kgs)"
   ]
  },
  {
   "cell_type": "code",
   "execution_count": null,
   "id": "543f5cb3-2260-4853-b2ce-4825c78b87dc",
   "metadata": {},
   "outputs": [],
   "source": []
  },
  {
   "cell_type": "code",
   "execution_count": null,
   "id": "b22efb6e-db4c-49ad-8243-327dde99a620",
   "metadata": {},
   "outputs": [],
   "source": []
  }
 ],
 "metadata": {
  "kernelspec": {
   "display_name": "Python 3 (ipykernel)",
   "language": "python",
   "name": "python3"
  },
  "language_info": {
   "codemirror_mode": {
    "name": "ipython",
    "version": 3
   },
   "file_extension": ".py",
   "mimetype": "text/x-python",
   "name": "python",
   "nbconvert_exporter": "python",
   "pygments_lexer": "ipython3",
   "version": "3.12.7"
  }
 },
 "nbformat": 4,
 "nbformat_minor": 5
}
