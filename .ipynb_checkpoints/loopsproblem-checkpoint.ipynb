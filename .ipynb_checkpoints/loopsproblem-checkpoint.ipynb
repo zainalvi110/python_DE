{
 "cells": [
  {
   "cell_type": "markdown",
   "id": "7ca40510-0ddf-4e2f-ad5d-4b08b5dda66c",
   "metadata": {},
   "source": [
    "# positive number count"
   ]
  },
  {
   "cell_type": "code",
   "execution_count": 4,
   "id": "a8dbe7a7-1f22-47d5-bcc8-0e732bc42d5c",
   "metadata": {},
   "outputs": [
    {
     "name": "stdout",
     "output_type": "stream",
     "text": [
      "Final count of positive numbers is :  5\n"
     ]
    }
   ],
   "source": [
    "numbers=[0,-1,4,-6,7,-11,-5,9,2,-3]\n",
    "positive_count=0\n",
    "for num in numbers:\n",
    "    if num>=0:\n",
    "        positive_count +=1\n",
    "print(\"Final count of positive numbers is : \",positive_count)"
   ]
  },
  {
   "cell_type": "code",
   "execution_count": 5,
   "id": "a9c9a95c-8e07-49c5-ad59-e342e8dc4469",
   "metadata": {},
   "outputs": [
    {
     "name": "stdout",
     "output_type": "stream",
     "text": [
      "Sum of even numbers is: 30\n"
     ]
    }
   ],
   "source": [
    "n = 10\n",
    "sum_even = 0\n",
    "\n",
    "for i in range(1, n + 1):\n",
    "    if i % 2 == 0:\n",
    "        sum_even += i\n",
    "print(\"Sum of even numbers is:\", sum_even)"
   ]
  },
  {
   "cell_type": "code",
   "execution_count": 12,
   "id": "0ee097f0-e7b8-441b-bc65-6c42d8013497",
   "metadata": {},
   "outputs": [
    {
     "name": "stdin",
     "output_type": "stream",
     "text": [
      "Enter the num you want to print table of : 7\n"
     ]
    },
    {
     "name": "stdout",
     "output_type": "stream",
     "text": [
      "7 x 1 = 7\n",
      "7 x 2 = 14\n",
      "7 x 3 = 21\n",
      "7 x 4 = 28\n",
      "7 x 6 = 42\n",
      "7 x 7 = 49\n",
      "7 x 8 = 56\n",
      "7 x 9 = 63\n",
      "7 x 10 = 70\n"
     ]
    }
   ],
   "source": [
    "num=int(input(\"Enter the num you want to print table of :\"))\n",
    "for table in range(1,11):\n",
    "    if table ==5:\n",
    "        continue\n",
    "    print(num,\"x\",table,\"=\",num*table)\n",
    "    \n"
   ]
  },
  {
   "cell_type": "code",
   "execution_count": 20,
   "id": "ec7d5efa-f7d0-467b-be4d-06dcc91ad59a",
   "metadata": {},
   "outputs": [
    {
     "name": "stdout",
     "output_type": "stream",
     "text": [
      "5 factorial at the moment : 5\n",
      "4 factorial at the moment : 20\n",
      "3 factorial at the moment : 60\n",
      "2 factorial at the moment : 120\n",
      "1 factorial at the moment : 120\n",
      "final factorail 120\n"
     ]
    }
   ],
   "source": [
    "number=5\n",
    "factorial=1\n",
    "while number>0:\n",
    "    factorial=number*factorial\n",
    "    print(number,\"factorial at the moment :\",factorial)\n",
    "    number-=1\n",
    "\n",
    "print(\"final factorail\",factorial)"
   ]
  },
  {
   "cell_type": "code",
   "execution_count": null,
   "id": "7cf08f91-275d-47b7-9bba-b7dfe2947481",
   "metadata": {},
   "outputs": [],
   "source": []
  }
 ],
 "metadata": {
  "kernelspec": {
   "display_name": "Python 3 (ipykernel)",
   "language": "python",
   "name": "python3"
  },
  "language_info": {
   "codemirror_mode": {
    "name": "ipython",
    "version": 3
   },
   "file_extension": ".py",
   "mimetype": "text/x-python",
   "name": "python",
   "nbconvert_exporter": "python",
   "pygments_lexer": "ipython3",
   "version": "3.12.7"
  }
 },
 "nbformat": 4,
 "nbformat_minor": 5
}
