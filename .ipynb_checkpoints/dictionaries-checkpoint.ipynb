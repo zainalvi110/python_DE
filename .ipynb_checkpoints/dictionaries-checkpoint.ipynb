{
 "cells": [
  {
   "cell_type": "code",
   "execution_count": 1,
   "id": "b96a03f4-76c2-40da-90bd-4585c6521a9f",
   "metadata": {},
   "outputs": [
    {
     "data": {
      "text/plain": [
       "{'Masala': 'spicy', 'Ginger': 'zesty', 'green': 'mild'}"
      ]
     },
     "execution_count": 1,
     "metadata": {},
     "output_type": "execute_result"
    }
   ],
   "source": [
    "chai_types= {\"Masala\":\"spicy\",\"Ginger\":\"zesty\",\"green\":\"mild\"}\n",
    "chai_types"
   ]
  },
  {
   "cell_type": "code",
   "execution_count": 3,
   "id": "08f891c7-c7b4-486d-ae8e-63fd39c2fa84",
   "metadata": {},
   "outputs": [
    {
     "data": {
      "text/plain": [
       "dict"
      ]
     },
     "execution_count": 3,
     "metadata": {},
     "output_type": "execute_result"
    }
   ],
   "source": [
    "type(chai_types)"
   ]
  },
  {
   "cell_type": "code",
   "execution_count": 6,
   "id": "a28d7036-9fa9-467c-ac19-7ebacb627c05",
   "metadata": {},
   "outputs": [
    {
     "data": {
      "text/plain": [
       "'spicy'"
      ]
     },
     "execution_count": 6,
     "metadata": {},
     "output_type": "execute_result"
    }
   ],
   "source": [
    "chai_types[\"Masala\"]"
   ]
  },
  {
   "cell_type": "code",
   "execution_count": 9,
   "id": "428e12b4-0592-445c-b86a-ae52b083950d",
   "metadata": {},
   "outputs": [
    {
     "name": "stdout",
     "output_type": "stream",
     "text": [
      "Masala\n",
      "Ginger\n",
      "green\n"
     ]
    }
   ],
   "source": [
    "\n",
    "\n",
    "for chai in chai_types:\n",
    "    print(chai)"
   ]
  },
  {
   "cell_type": "code",
   "execution_count": 11,
   "id": "aec88471-406c-4e20-aeba-6b5b91230aec",
   "metadata": {},
   "outputs": [
    {
     "name": "stdout",
     "output_type": "stream",
     "text": [
      "Masala spicy\n",
      "Ginger zesty\n",
      "green mild\n"
     ]
    }
   ],
   "source": [
    "for chai in chai_types:\n",
    "    print(chai,chai_types[chai])"
   ]
  },
  {
   "cell_type": "code",
   "execution_count": 13,
   "id": "7ec95ae6-2ea0-49fb-bac0-87cb394c3f95",
   "metadata": {},
   "outputs": [
    {
     "name": "stdout",
     "output_type": "stream",
     "text": [
      "Masala spicy\n",
      "Ginger zesty\n",
      "green mild\n"
     ]
    }
   ],
   "source": [
    "for key,value in chai_types.items():\n",
    "    print(key,value)\n",
    "    "
   ]
  },
  {
   "cell_type": "code",
   "execution_count": null,
   "id": "cbd25514-f5ef-4660-b839-8aed37766e7a",
   "metadata": {},
   "outputs": [],
   "source": []
  }
 ],
 "metadata": {
  "kernelspec": {
   "display_name": "Python 3 (ipykernel)",
   "language": "python",
   "name": "python3"
  },
  "language_info": {
   "codemirror_mode": {
    "name": "ipython",
    "version": 3
   },
   "file_extension": ".py",
   "mimetype": "text/x-python",
   "name": "python",
   "nbconvert_exporter": "python",
   "pygments_lexer": "ipython3",
   "version": "3.12.7"
  }
 },
 "nbformat": 4,
 "nbformat_minor": 5
}
