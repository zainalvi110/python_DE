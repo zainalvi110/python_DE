{
 "cells": [
  {
   "cell_type": "markdown",
   "id": "4b5e7bce-70d4-4a43-ae2a-da0f0bcf8170",
   "metadata": {},
   "source": [
    "### Number 1 "
   ]
  },
  {
   "cell_type": "markdown",
   "id": "343476da-a130-4720-9f9c-4fd6f4bf1123",
   "metadata": {},
   "source": [
    "classify age  as chuild mid and old"
   ]
  },
  {
   "cell_type": "code",
   "execution_count": 3,
   "id": "b95630ce-2ca3-44da-bd3a-dbefa0184411",
   "metadata": {},
   "outputs": [
    {
     "name": "stdin",
     "output_type": "stream",
     "text": [
      "Enter Your Age :/n 1\n"
     ]
    },
    {
     "name": "stdout",
     "output_type": "stream",
     "text": [
      "You are a child\n"
     ]
    }
   ],
   "source": [
    "age=int(input('Enter Your Age :/n'))\n",
    "if age<=12:\n",
    "    print(\"You are a child\")\n",
    "elif age<20:\n",
    "    print(\"You are a teenager\")\n",
    "elif age<60:\n",
    "    print(\"still an adult\")\n",
    "else:\n",
    "    print(\"Senior\")\n",
    "    "
   ]
  },
  {
   "cell_type": "markdown",
   "id": "c0b27614-b119-477c-b866-57b7c956c39f",
   "metadata": {},
   "source": [
    "### Number 2"
   ]
  },
  {
   "cell_type": "markdown",
   "id": "d7aeed42-e31d-48ef-998f-c372925c9cab",
   "metadata": {},
   "source": [
    "Movie ticket pricing"
   ]
  },
  {
   "cell_type": "code",
   "execution_count": 18,
   "id": "c4f489f9-56d6-4cbd-bd8a-84adcffb3ea0",
   "metadata": {},
   "outputs": [
    {
     "name": "stdin",
     "output_type": "stream",
     "text": [
      "Enter Your Age :\n",
      " 12\n"
     ]
    },
    {
     "name": "stdout",
     "output_type": "stream",
     "text": [
      "Price for you today is : 6 $ only\n"
     ]
    }
   ],
   "source": [
    "age=int(input(\"Enter Your Age :\\n\"))\n",
    "price= 12 if age>=18 else 8\n",
    "day=\"wed\"\n",
    "if day== \"wed\":\n",
    "    price-=2\n",
    "print(\"Price for you today is :\",price,\"$ only\")"
   ]
  },
  {
   "cell_type": "markdown",
   "id": "e7f4fc7f-4254-458a-8485-b9c7377bb276",
   "metadata": {},
   "source": [
    "### Number 3"
   ]
  },
  {
   "cell_type": "markdown",
   "id": "f8061a7d-bffe-4f2d-802c-71639952ce48",
   "metadata": {},
   "source": [
    "Score based grade"
   ]
  },
  {
   "cell_type": "code",
   "execution_count": 16,
   "id": "0432da32-a9d8-494f-b348-41781f278664",
   "metadata": {},
   "outputs": [
    {
     "name": "stdin",
     "output_type": "stream",
     "text": [
      "Enter Your Score :\n",
      " 120\n"
     ]
    },
    {
     "name": "stdout",
     "output_type": "stream",
     "text": [
      "enter marks from 100\n"
     ]
    }
   ],
   "source": [
    "score=int(input(\"Enter Your Score :\\n\"))\n",
    "max_sc=100\n",
    "if score<0 or score > max_sc:\n",
    "    print(\"enter marks from 100\")\n",
    "    #we can use exit() also\n",
    "    \n",
    "else:\n",
    "    if score>=90 :\n",
    "        print(\"A GRADE\")\n",
    "    elif score>=80:\n",
    "        print(\"B GRADE\")\n",
    "    elif score>=70:\n",
    "        print(\"C GRADE\")\n",
    "    elif score>=60:\n",
    "        print(\"D GRADE\")\n",
    "    else:\n",
    "        print(\"BELOW 60 MARKS ARE FAILED\\n CHECK YOUR INPUT\")\n"
   ]
  },
  {
   "cell_type": "code",
   "execution_count": null,
   "id": "97af6f8d-bd81-4465-92ba-15c714fcbe7c",
   "metadata": {},
   "outputs": [],
   "source": []
  }
 ],
 "metadata": {
  "kernelspec": {
   "display_name": "Python 3 (ipykernel)",
   "language": "python",
   "name": "python3"
  },
  "language_info": {
   "codemirror_mode": {
    "name": "ipython",
    "version": 3
   },
   "file_extension": ".py",
   "mimetype": "text/x-python",
   "name": "python",
   "nbconvert_exporter": "python",
   "pygments_lexer": "ipython3",
   "version": "3.12.7"
  }
 },
 "nbformat": 4,
 "nbformat_minor": 5
}
