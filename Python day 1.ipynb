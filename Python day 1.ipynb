{
 "cells": [
  {
   "cell_type": "markdown",
   "id": "22305d70-a868-48ac-bfb6-8714b758614a",
   "metadata": {},
   "source": [
    "### Ansh Lamba python tutorial"
   ]
  },
  {
   "cell_type": "markdown",
   "id": "b32db8f2-4079-4030-8382-14666cc67dff",
   "metadata": {},
   "source": [
    "# Day 1 startiing with fundamentals to be a pro"
   ]
  },
  {
   "cell_type": "code",
   "execution_count": 1,
   "id": "c8b5fe54-e8b2-4193-90b9-ad1293a7241c",
   "metadata": {},
   "outputs": [
    {
     "name": "stdout",
     "output_type": "stream",
     "text": [
      "hello zain/1/hell fire\n"
     ]
    }
   ],
   "source": [
    "print(\"hello zain\",1,\"hell fire\" ,sep=\"/\") # sep = adding delimeter"
   ]
  },
  {
   "cell_type": "code",
   "execution_count": 5,
   "id": "d159bf23-7c99-42fc-87cd-d224e568fee9",
   "metadata": {},
   "outputs": [
    {
     "name": "stdout",
     "output_type": "stream",
     "text": [
      "hello \n",
      "how are you\n"
     ]
    }
   ],
   "source": [
    "print(\"\"\"hello \n",
    "how are you\"\"\")"
   ]
  },
  {
   "cell_type": "code",
   "execution_count": 7,
   "id": "ab050782-f9de-488e-a390-084a5100200e",
   "metadata": {},
   "outputs": [],
   "source": [
    "Full_Name= \"Zain Ul Abideen Alvi\"\n",
    "Age=20\n",
    "Is_new= True"
   ]
  },
  {
   "cell_type": "code",
   "execution_count": 8,
   "id": "252bd5f8-5d52-468c-82ea-d7c32d8398af",
   "metadata": {},
   "outputs": [
    {
     "data": {
      "text/plain": [
       "'Zain Ul Abideen Alvi'"
      ]
     },
     "execution_count": 8,
     "metadata": {},
     "output_type": "execute_result"
    }
   ],
   "source": [
    "Full_Name"
   ]
  },
  {
   "cell_type": "code",
   "execution_count": 9,
   "id": "48af8e53-0195-44d2-829b-a9b58ed5da2d",
   "metadata": {},
   "outputs": [
    {
     "data": {
      "text/plain": [
       "True"
      ]
     },
     "execution_count": 9,
     "metadata": {},
     "output_type": "execute_result"
    }
   ],
   "source": [
    "Is_new"
   ]
  },
  {
   "cell_type": "code",
   "execution_count": 17,
   "id": "954d0676-5cec-4775-bec0-3c33c6d11b50",
   "metadata": {},
   "outputs": [
    {
     "name": "stdin",
     "output_type": "stream",
     "text": [
      "Enter patient name zain\n"
     ]
    },
    {
     "name": "stdout",
     "output_type": "stream",
     "text": [
      "hey zain\n"
     ]
    }
   ],
   "source": [
    "\n",
    "patient=input(\"Enter patient name\")\n",
    "print('hey ' + patient)\n"
   ]
  },
  {
   "cell_type": "code",
   "execution_count": null,
   "id": "7f979995-b91e-4692-b497-bef27aebe226",
   "metadata": {},
   "outputs": [],
   "source": []
  }
 ],
 "metadata": {
  "kernelspec": {
   "display_name": "Python 3 (ipykernel)",
   "language": "python",
   "name": "python3"
  },
  "language_info": {
   "codemirror_mode": {
    "name": "ipython",
    "version": 3
   },
   "file_extension": ".py",
   "mimetype": "text/x-python",
   "name": "python",
   "nbconvert_exporter": "python",
   "pygments_lexer": "ipython3",
   "version": "3.12.7"
  }
 },
 "nbformat": 4,
 "nbformat_minor": 5
}
