{
 "cells": [
  {
   "cell_type": "code",
   "execution_count": 6,
   "id": "124bfa9c-ec5f-4d2a-962d-6eb7ee962bde",
   "metadata": {},
   "outputs": [
    {
     "data": {
      "text/plain": [
       "[4, 5, 6]"
      ]
     },
     "execution_count": 6,
     "metadata": {},
     "output_type": "execute_result"
    }
   ],
   "source": [
    "l1=[4,5,6]\n",
    "l2=l1\n",
    "l2=[4,5,6]   #new reference bna diya tw ab l1 alag hogaya or yeh alag\n",
    "l1[0]=108\n",
    "l1\n",
    "l2\n",
    "\n"
   ]
  },
  {
   "cell_type": "code",
   "execution_count": 10,
   "id": "03fb1413-de91-41c1-bfda-ef2a77b1a477",
   "metadata": {},
   "outputs": [
    {
     "data": {
      "text/plain": [
       "[555, 22, 33]"
      ]
     },
     "execution_count": 10,
     "metadata": {},
     "output_type": "execute_result"
    }
   ],
   "source": [
    "l1=[11,22,33]\n",
    "l2=l1\n",
    "l2    # l1 k reference ko hold kr k rkhay ga or mutable rahega\n",
    "l1[0]=555\n",
    "l2\n"
   ]
  },
  {
   "cell_type": "code",
   "execution_count": 1,
   "id": "46027042-aa6d-4db3-b2b6-3299c9a6cf17",
   "metadata": {},
   "outputs": [
    {
     "name": "stdout",
     "output_type": "stream",
     "text": [
      "['black', 'kashmiri']\n"
     ]
    }
   ],
   "source": [
    "tea_varities=[\"black\",\"kashmiri\",\"lemon\",\"white\"]\n",
    "print(tea_varities[0:2])"
   ]
  },
  {
   "cell_type": "code",
   "execution_count": 2,
   "id": "3f4cd670-bfc2-4f81-8e3a-329b3938c845",
   "metadata": {},
   "outputs": [
    {
     "data": {
      "text/plain": [
       "[]"
      ]
     },
     "execution_count": 2,
     "metadata": {},
     "output_type": "execute_result"
    }
   ],
   "source": [
    "tea_varities[1:1]"
   ]
  },
  {
   "cell_type": "code",
   "execution_count": 3,
   "id": "ef7c347f-aba8-4e03-b72a-7012ae87a12a",
   "metadata": {},
   "outputs": [],
   "source": [
    "tea_varities[1:1]=['test']"
   ]
  },
  {
   "cell_type": "code",
   "execution_count": 6,
   "id": "e2d1d908-27b5-4640-92f0-5a73b2972fe1",
   "metadata": {},
   "outputs": [],
   "source": [
    "tea_varities[2:2]=[\"zain\",\"Alvi\"]"
   ]
  },
  {
   "cell_type": "code",
   "execution_count": 9,
   "id": "3e4cf4ce-6065-4326-8fbc-a6bbeb8f7ed1",
   "metadata": {},
   "outputs": [
    {
     "data": {
      "text/plain": [
       "'Alvi'"
      ]
     },
     "execution_count": 9,
     "metadata": {},
     "output_type": "execute_result"
    }
   ],
   "source": [
    "tea_varities[3]\n"
   ]
  },
  {
   "cell_type": "code",
   "execution_count": 10,
   "id": "6c45f912-c204-402d-8c23-18df90044a61",
   "metadata": {},
   "outputs": [
    {
     "data": {
      "text/plain": [
       "<function list.remove(value, /)>"
      ]
     },
     "execution_count": 10,
     "metadata": {},
     "output_type": "execute_result"
    }
   ],
   "source": []
  },
  {
   "cell_type": "code",
   "execution_count": null,
   "id": "2d49fd59-079e-4103-b7b5-fa63d53f549b",
   "metadata": {},
   "outputs": [],
   "source": []
  }
 ],
 "metadata": {
  "kernelspec": {
   "display_name": "Python 3 (ipykernel)",
   "language": "python",
   "name": "python3"
  },
  "language_info": {
   "codemirror_mode": {
    "name": "ipython",
    "version": 3
   },
   "file_extension": ".py",
   "mimetype": "text/x-python",
   "name": "python",
   "nbconvert_exporter": "python",
   "pygments_lexer": "ipython3",
   "version": "3.12.7"
  }
 },
 "nbformat": 4,
 "nbformat_minor": 5
}
